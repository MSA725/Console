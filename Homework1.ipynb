{
  "nbformat": 4,
  "nbformat_minor": 0,
  "metadata": {
    "colab": {
      "provenance": [],
      "authorship_tag": "ABX9TyOvd1MLe/Ane2/Ze53GqBTg",
      "include_colab_link": true
    },
    "kernelspec": {
      "name": "python3",
      "display_name": "Python 3"
    },
    "language_info": {
      "name": "python"
    }
  },
  "cells": [
    {
      "cell_type": "markdown",
      "metadata": {
        "id": "view-in-github",
        "colab_type": "text"
      },
      "source": [
        "<a href=\"https://colab.research.google.com/github/MSA725/Console/blob/main/Homework1.ipynb\" target=\"_parent\"><img src=\"https://colab.research.google.com/assets/colab-badge.svg\" alt=\"Open In Colab\"/></a>"
      ]
    },
    {
      "cell_type": "markdown",
      "source": [
        "*Условие 2: *\n",
        "На складе лежат разные фрукты в разном количестве.\n",
        "Нужно написать функцию, которая на вход принимает любое количество названий фруктов и их количество, а возвращает общее количество фруктов на складе\n"
      ],
      "metadata": {
        "id": "qqthLRPWeUGn"
      }
    },
    {
      "cell_type": "code",
      "source": [
        "def fruit_basket(**kwargs):\n",
        "    {print(f\"Фрукт {name} в количестве {values} шт\")\n",
        "     for name, values in kwargs.items()}\n",
        "    return print(f'Общее количество фруктов: {sum(kwargs.values())}')"
      ],
      "metadata": {
        "id": "Dm7X6_B-evSR"
      },
      "execution_count": null,
      "outputs": []
    },
    {
      "cell_type": "code",
      "source": [
        "fruit_basket(\n",
        "    apple = 23,\n",
        "    orange = 15,\n",
        "    lemon = 5\n",
        ")"
      ],
      "metadata": {
        "colab": {
          "base_uri": "https://localhost:8080/"
        },
        "id": "1T56EDnRfEM9",
        "outputId": "e55b9415-a257-403a-9092-49355afb825e"
      },
      "execution_count": null,
      "outputs": [
        {
          "output_type": "stream",
          "name": "stdout",
          "text": [
            "Фрукт apple в количестве 23 шт\n",
            "Фрукт orange в количестве 15 шт\n",
            "Фрукт lemon в количестве 5 шт\n",
            "Общее количество фруктов: 43\n"
          ]
        }
      ]
    },
    {
      "cell_type": "markdown",
      "source": [
        "*Условие 3: *\n",
        "Дан список с затратами на рекламу. Но в данных есть ошибки, некоторые затраты имеют отрицательную величину. Удалите такие значения из списка и посчитайте суммарные затраты\n",
        "[100, 125, -90, 345, 655, -1, 0, 200]\n",
        "Используйте list comprehensions"
      ],
      "metadata": {
        "id": "TUtjeS9yfaMI"
      }
    },
    {
      "cell_type": "code",
      "source": [
        "list_cosst = [100, 125, -90, 345, 655, -1, 0, 200]\n",
        "position_cosst = [i for i in list_cosst if i > 0]\n",
        "print(f'Затраты на рекламу с положительными величинами {position_cosst}')\n",
        "f\"Суммарные затраты составляют: {sum(position_cosst)} \""
      ],
      "metadata": {
        "colab": {
          "base_uri": "https://localhost:8080/",
          "height": 53
        },
        "id": "sSt3A--gfp_6",
        "outputId": "00f0bb29-36f8-472c-fc62-5beb09a5f834"
      },
      "execution_count": null,
      "outputs": [
        {
          "output_type": "stream",
          "name": "stdout",
          "text": [
            "Затраты на рекламу с положительными величинами [100, 125, 345, 655, 200]\n"
          ]
        },
        {
          "output_type": "execute_result",
          "data": {
            "text/plain": [
              "'Суммарные затраты составляют: 1425 '"
            ],
            "application/vnd.google.colaboratory.intrinsic+json": {
              "type": "string"
            }
          },
          "metadata": {},
          "execution_count": 5
        }
      ]
    },
    {
      "cell_type": "markdown",
      "source": [
        "*Условие 4: *\n",
        "Даны два списка.\n",
        "Дата покупки\n",
        "['2021-09-14', '2021-12-15', '2021-09-08', '2021-12-05', '2021-10-09', '2021-09-30', '2021-12-22', '2021-11-29', '2021-12-24', '2021-11-26', '2021-10-27', '2021-12-18', '2021-11-09', '2021-11-23', '2021-09-27', '2021-10-02', '2021-12-27', '2021-09-20', '2021-12-13', '2021-11-01', '2021-11-09', '2021-12-06', '2021-12-08', '2021-10-09', '2021-10-31', '2021-09-30', '2021-11-09', '2021-12-13', '2021-10-26', '2021-12-09']\n",
        "Суммы покупок по датам\n",
        "[1270, 8413, 9028, 3703, 5739, 4095, 295, 4944, 5723, 3701, 4471, 651, 7037, 4274, 6275, 4988, 6930, 2971, 6592, 2004, 2822, 519, 3406, 2732, 5015, 2008, 316, 6333, 5700, 2887]\n",
        "4.1 Найдите, какая выручка у компании в ноябре\n",
        "Используйте list comprehensions\n",
        "4.2 Найдите выручку компании в зависимости от месяца\n",
        "Для этого напишите функцию, которая на вход принимает список с датами и список с выручкой, а на выходе словарь, где ключи - это месяцы, а значения - это выручка.\n",
        "Используйте аннотирование типов."
      ],
      "metadata": {
        "id": "S_WnntYkgHFP"
      }
    },
    {
      "cell_type": "code",
      "source": [
        "list_dates = ['2021-09-14', '2021-12-15', '2021-09-08', '2021-12-05', '2021-10-09', '2021-09-30', '2021-12-22', '2021-11-29', '2021-12-24', '2021-11-26', '2021-10-27', '2021-12-18', '2021-11-09', '2021-11-23', '2021-09-27',\n",
        "              '2021-10-02', '2021-12-27', '2021-09-20', '2021-12-13', '2021-11-01', '2021-11-09', '2021-12-06', '2021-12-08', '2021-10-09', '2021-10-31', '2021-09-30', '2021-11-09', '2021-12-13', '2021-10-26', '2021-12-09']\n",
        "amount_by_date = [1270, 8413, 9028, 3703, 5739, 4095, 295, 4944, 5723, 3701, 4471, 651, 7037, 4274,\n",
        "                  6275, 4988, 6930, 2971, 6592, 2004, 2822, 519, 3406, 2732, 5015, 2008, 316, 6333, 5700, 2887]"
      ],
      "metadata": {
        "id": "zdH1ZzArgfVH"
      },
      "execution_count": null,
      "outputs": []
    },
    {
      "cell_type": "code",
      "source": [
        "list_Month = [i.split('-')[1] for i in list_dates]"
      ],
      "metadata": {
        "id": "vjvHAzeAgsEw"
      },
      "execution_count": null,
      "outputs": []
    },
    {
      "cell_type": "code",
      "source": [
        "print(list_Month)"
      ],
      "metadata": {
        "colab": {
          "base_uri": "https://localhost:8080/"
        },
        "id": "cjzLyvCugzhn",
        "outputId": "6eedba66-29c8-4eb1-ee2c-b2288811c3c3"
      },
      "execution_count": null,
      "outputs": [
        {
          "output_type": "stream",
          "name": "stdout",
          "text": [
            "['09', '12', '09', '12', '10', '09', '12', '11', '12', '11', '10', '12', '11', '11', '09', '10', '12', '09', '12', '11', '11', '12', '12', '10', '10', '09', '11', '12', '10', '12']\n"
          ]
        }
      ]
    },
    {
      "cell_type": "code",
      "source": [
        "tuple_November_Revenue = [(f'Месяц {list_Month[i]}', f'выручка {amount_by_date[j]}')\n",
        "                          for i in range(len(list_Month))\n",
        "                          for j in range(len(amount_by_date))\n",
        "                          if i == j and list_Month[i] == '11']"
      ],
      "metadata": {
        "id": "3O06_i0-g6T5"
      },
      "execution_count": null,
      "outputs": []
    },
    {
      "cell_type": "code",
      "source": [
        "tuple_November_Revenue"
      ],
      "metadata": {
        "colab": {
          "base_uri": "https://localhost:8080/"
        },
        "id": "03RDbXf5hHVw",
        "outputId": "6f5046e6-39c7-4439-f5f3-97fbceebe0de"
      },
      "execution_count": null,
      "outputs": [
        {
          "output_type": "execute_result",
          "data": {
            "text/plain": [
              "[('Месяц 11', 'выручка 4944'),\n",
              " ('Месяц 11', 'выручка 3701'),\n",
              " ('Месяц 11', 'выручка 7037'),\n",
              " ('Месяц 11', 'выручка 4274'),\n",
              " ('Месяц 11', 'выручка 2004'),\n",
              " ('Месяц 11', 'выручка 2822'),\n",
              " ('Месяц 11', 'выручка 316')]"
            ]
          },
          "metadata": {},
          "execution_count": 10
        }
      ]
    },
    {
      "cell_type": "code",
      "source": [
        "print(tuple_November_Revenue[0][0], f'выручка составило: {sum([amount for dates, amount in zip(list_dates, amount_by_date) if dates[5:7] == \"11\"])}')"
      ],
      "metadata": {
        "colab": {
          "base_uri": "https://localhost:8080/"
        },
        "id": "GGKh7QpThWkW",
        "outputId": "5d045e58-df9d-44cb-8bac-b920ddc59fae"
      },
      "execution_count": null,
      "outputs": [
        {
          "output_type": "stream",
          "name": "stdout",
          "text": [
            "Месяц 11 выручка составило: 25098\n"
          ]
        }
      ]
    },
    {
      "cell_type": "code",
      "source": [
        "def revenue_by_month(list_date: list, list_revenue: list) -> dict:\n",
        "    # list_Month = [i.split('-')[1] for i in list_date]\n",
        "    # dict_Month = {list_date[i].split('-')[1] : list_revenue[j] for i in range(len(list_date)) for j in range(len(list_revenue)) if i == j}\n",
        "    dict_Month = {}\n",
        "    for i in range(len(list_date)):\n",
        "        if list_date[i].split('-')[1] in dict_Month.keys():\n",
        "            dict_Month[list_date[i].split('-')[1]] += list_revenue[i]\n",
        "        else:\n",
        "            dict_Month[list_date[i].split('-')[1]] = list_revenue[i]\n",
        "    return dict_Month"
      ],
      "metadata": {
        "id": "CeVdwAQLhi-Y"
      },
      "execution_count": null,
      "outputs": []
    },
    {
      "cell_type": "code",
      "source": [
        "revenue_by_month(list_dates, amount_by_date)"
      ],
      "metadata": {
        "colab": {
          "base_uri": "https://localhost:8080/"
        },
        "id": "qxy0zbsqhnGd",
        "outputId": "3f19c1aa-e985-40b5-dc13-08c40a38ccd0"
      },
      "execution_count": null,
      "outputs": [
        {
          "output_type": "execute_result",
          "data": {
            "text/plain": [
              "{'09': 25647, '12': 45452, '10': 28645, '11': 25098}"
            ]
          },
          "metadata": {},
          "execution_count": 13
        }
      ]
    }
  ]
}